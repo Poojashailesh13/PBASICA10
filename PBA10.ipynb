{
 "cells": [
  {
   "cell_type": "raw",
   "id": "0e3a1305",
   "metadata": {},
   "source": [
    "1. How do you distinguish between shutil.copy() and shutil.copytree()?\n",
    "ANS- The shutil. copy() function will copy a single file, while shutil. copytree() will copy an entire folder, along with all its contents.\n"
   ]
  },
  {
   "cell_type": "raw",
   "id": "0f688353",
   "metadata": {},
   "source": [
    "2. What function is used to rename files??\n",
    "ANS- rename() method in Python is used to rename a file or directory."
   ]
  },
  {
   "cell_type": "raw",
   "id": "c1630c89",
   "metadata": {},
   "source": [
    "3. What is the difference between the delete functions in the send2trash and shutil modules?\n",
    "ANS- The send2trash functions will move a file or folder to the recycle bin, while shutil functions will permanently delete files and folders."
   ]
  },
  {
   "cell_type": "raw",
   "id": "be4b290e",
   "metadata": {},
   "source": [
    "4.ZipFile objects have a close() method just like File objects’ close() method. What ZipFile method is\n",
    "equivalent to File objects’ open() method?\n",
    "ANS- The extractall() method for ZipFile objects extracts all the files and folders from a ZIP file into the current working directory. "
   ]
  },
  {
   "cell_type": "code",
   "execution_count": null,
   "id": "c24a8c5e",
   "metadata": {},
   "outputs": [],
   "source": [
    "5. Create a programme that searches a folder tree for files with a certain file extension (such as .pdf\n",
    "or .jpg). Copy these files from whatever location they are in to a new folder.\n",
    "ANS- import os\n",
    "import shutil\n",
    "sourcepath='C:/Users/kevinconnell/Desktop/Test_Folder/'\n",
    "sourcefiles = os.listdir(sourcepath)\n",
    "destinationpath = 'C:/Users/kevinconnell/Desktop/Test_Folder/Archive'\n",
    "for file in sourcefiles:\n",
    "    if file.endswith('.png'):\n",
    "        shutil.move(os.path.join(sourcepath,file), os.path.join(destinationpath,file))"
   ]
  }
 ],
 "metadata": {
  "kernelspec": {
   "display_name": "Python 3 (ipykernel)",
   "language": "python",
   "name": "python3"
  },
  "language_info": {
   "codemirror_mode": {
    "name": "ipython",
    "version": 3
   },
   "file_extension": ".py",
   "mimetype": "text/x-python",
   "name": "python",
   "nbconvert_exporter": "python",
   "pygments_lexer": "ipython3",
   "version": "3.9.7"
  }
 },
 "nbformat": 4,
 "nbformat_minor": 5
}
